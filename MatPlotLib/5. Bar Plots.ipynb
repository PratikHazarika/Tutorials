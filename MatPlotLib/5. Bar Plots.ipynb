{
  "nbformat": 4,
  "nbformat_minor": 0,
  "metadata": {
    "colab": {
      "name": "Bar Plots.ipynb",
      "provenance": [],
      "collapsed_sections": [],
      "authorship_tag": "ABX9TyOCeVKHscLqIiKgBcVtJA0a",
      "include_colab_link": true
    },
    "kernelspec": {
      "name": "python3",
      "display_name": "Python 3"
    },
    "language_info": {
      "name": "python"
    }
  },
  "cells": [
    {
      "cell_type": "markdown",
      "metadata": {
        "id": "view-in-github",
        "colab_type": "text"
      },
      "source": [
        "<a href=\"https://colab.research.google.com/github/PratikHazarika/Tutorials/blob/main/MatPlotLib/Bar%20Plots.ipynb\" target=\"_parent\"><img src=\"https://colab.research.google.com/assets/colab-badge.svg\" alt=\"Open In Colab\"/></a>"
      ]
    },
    {
      "cell_type": "code",
      "execution_count": null,
      "metadata": {
        "colab": {
          "base_uri": "https://localhost:8080/"
        },
        "id": "N-7H263KI2sS",
        "outputId": "cf5542fe-1086-4c93-fc6e-abe5119ebf57"
      },
      "outputs": [
        {
          "output_type": "stream",
          "name": "stdout",
          "text": [
            "Mounted at /content/gdrive/\n"
          ]
        }
      ],
      "source": [
        "import matplotlib.pyplot as plt\n",
        "import numpy as np\n",
        "\n",
        "from google.colab import drive\n",
        "drive.mount('/content/gdrive/', force_remount=True)"
      ]
    },
    {
      "cell_type": "markdown",
      "source": [
        "# Parameters\n",
        "x: labels \\\n",
        "height: data values \\\n",
        "width: width of the bars \\\n",
        "bottom: y co-ordinate of bar bases \\\n",
        "align: allignment of x co-ordinate"
      ],
      "metadata": {
        "id": "u8XxExD8KztY"
      }
    },
    {
      "cell_type": "markdown",
      "source": [
        "# Data"
      ],
      "metadata": {
        "id": "eMRvN2P5I3G7"
      }
    },
    {
      "cell_type": "code",
      "source": [
        "x = np.array([\"A\", \"B\", \"C\", \"D\"])\n",
        "y = np.array([3, 8, 1, 10])"
      ],
      "metadata": {
        "id": "l2ZzSC55I-mP"
      },
      "execution_count": null,
      "outputs": []
    },
    {
      "cell_type": "markdown",
      "source": [
        "# Creating bar plots\n",
        "\n",
        "## *bar()*\n",
        "- used to create vertical bar plots\n",
        "- Parameter 1: labels\n",
        "- Parameter 2: data values"
      ],
      "metadata": {
        "id": "piQzWFjkJA3D"
      }
    },
    {
      "cell_type": "code",
      "source": [
        "plt.bar(x, y)\n",
        "plt.show()"
      ],
      "metadata": {
        "colab": {
          "base_uri": "https://localhost:8080/",
          "height": 265
        },
        "id": "IX45ieOUJPRg",
        "outputId": "50eadc00-6161-43f6-fcc4-82596d3d3796"
      },
      "execution_count": null,
      "outputs": [
        {
          "output_type": "display_data",
          "data": {
            "text/plain": [
              "<Figure size 432x288 with 1 Axes>"
            ],
            "image/png": "[encoded data removed]"
          },
          "metadata": {
            "needs_background": "light"
          }
        }
      ]
    },
    {
      "cell_type": "markdown",
      "source": [
        "# Horizontal bar plots\n",
        "\n",
        "## *barh()*\n",
        "- used to create horizontal bar plots\n",
        "- Parameter 1: labels\n",
        "- Parameter 2: data values"
      ],
      "metadata": {
        "id": "DNkXLee7JQk1"
      }
    },
    {
      "cell_type": "code",
      "source": [
        "plt.barh(x, y)\n",
        "plt.show()"
      ],
      "metadata": {
        "colab": {
          "base_uri": "https://localhost:8080/",
          "height": 265
        },
        "id": "ItWB8GxZJnKC",
        "outputId": "c795ecc4-7aa1-4ce7-cffe-e00f6bb68c3a"
      },
      "execution_count": null,
      "outputs": [
        {
          "output_type": "display_data",
          "data": {
            "text/plain": [
              "<Figure size 432x288 with 1 Axes>"
            ],
            "image/png": "[encoded data removed]"
          },
          "metadata": {
            "needs_background": "light"
          }
        }
      ]
    },
    {
      "cell_type": "markdown",
      "source": [
        "# Bar Decorations\n",
        "\n",
        "## *color*\n",
        "- used to color the bars"
      ],
      "metadata": {
        "id": "C8MOCzI_JqQK"
      }
    },
    {
      "cell_type": "code",
      "source": [
        "plt.bar(x, y, color=\"red\")\n",
        "plt.show()"
      ],
      "metadata": {
        "colab": {
          "base_uri": "https://localhost:8080/",
          "height": 265
        },
        "id": "OeKpwTazJ8Sg",
        "outputId": "328baeb6-9069-4cdd-b471-efb271fed512"
      },
      "execution_count": null,
      "outputs": [
        {
          "output_type": "display_data",
          "data": {
            "text/plain": [
              "<Figure size 432x288 with 1 Axes>"
            ],
            "image/png": "[encoded data removed]"
          },
          "metadata": {
            "needs_background": "light"
          }
        }
      ]
    },
    {
      "cell_type": "markdown",
      "source": [
        "## *width*\n",
        "- set the width of each vertical bar for bar"
      ],
      "metadata": {
        "id": "MVYQdBWuKCmg"
      }
    },
    {
      "cell_type": "code",
      "source": [
        "plt.bar(x, y, width=0.5)\n",
        "plt.show()"
      ],
      "metadata": {
        "colab": {
          "base_uri": "https://localhost:8080/",
          "height": 265
        },
        "id": "4IGz_Cg2KMzU",
        "outputId": "0cb3d83b-2759-44cd-b448-b5cee42b548a"
      },
      "execution_count": null,
      "outputs": [
        {
          "output_type": "display_data",
          "data": {
            "text/plain": [
              "<Figure size 432x288 with 1 Axes>"
            ],
            "image/png": "[encoded data removed]"
          },
          "metadata": {
            "needs_background": "light"
          }
        }
      ]
    },
    {
      "cell_type": "markdown",
      "source": [
        "## *height*\n",
        "- set the height of each horizontal bar for barh"
      ],
      "metadata": {
        "id": "QTIJ7SwwKN6v"
      }
    },
    {
      "cell_type": "code",
      "source": [
        "plt.barh(x, y, height = 0.1)\n",
        "plt.show()"
      ],
      "metadata": {
        "colab": {
          "base_uri": "https://localhost:8080/",
          "height": 265
        },
        "id": "_Qzga8wXKmaf",
        "outputId": "04e95d73-9cb1-45af-cfd7-630dcc0c0c43"
      },
      "execution_count": null,
      "outputs": [
        {
          "output_type": "display_data",
          "data": {
            "text/plain": [
              "<Figure size 432x288 with 1 Axes>"
            ],
            "image/png": "[encoded data removed]"
          },
          "metadata": {
            "needs_background": "light"
          }
        }
      ]
    }
  ]
}
