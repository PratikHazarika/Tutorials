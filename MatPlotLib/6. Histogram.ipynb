{
  "nbformat": 4,
  "nbformat_minor": 0,
  "metadata": {
    "colab": {
      "name": "Histogram.ipynb",
      "provenance": [],
      "authorship_tag": "ABX9TyPDCNzseJNvNiwzUhtZCLiF",
      "include_colab_link": true
    },
    "kernelspec": {
      "name": "python3",
      "display_name": "Python 3"
    },
    "language_info": {
      "name": "python"
    }
  },
  "cells": [
    {
      "cell_type": "markdown",
      "metadata": {
        "id": "view-in-github",
        "colab_type": "text"
      },
      "source": [
        "<a href=\"https://colab.research.google.com/github/PratikHazarika/Tutorials/blob/main/MatPlotLib/6.%20Histogram.ipynb\" target=\"_parent\"><img src=\"https://colab.research.google.com/assets/colab-badge.svg\" alt=\"Open In Colab\"/></a>"
      ]
    },
    {
      "cell_type": "code",
      "execution_count": null,
      "metadata": {
        "colab": {
          "base_uri": "https://localhost:8080/"
        },
        "id": "74owBb2cLdbj",
        "outputId": "aa92ea0c-ae89-4ebd-8957-c6d944a9b50c"
      },
      "outputs": [
        {
          "output_type": "stream",
          "name": "stdout",
          "text": [
            "Mounted at /content/gdrive/\n"
          ]
        }
      ],
      "source": [
        "import matplotlib.pyplot as plt\n",
        "import numpy as np\n",
        "\n",
        "from google.colab import drive\n",
        "drive.mount('/content/gdrive/', force_remount=True)"
      ]
    },
    {
      "cell_type": "markdown",
      "source": [
        "# Data Points"
      ],
      "metadata": {
        "id": "S2OosH3pLhKZ"
      }
    },
    {
      "cell_type": "code",
      "source": [
        "x = np.random.normal(170, 10, 250)"
      ],
      "metadata": {
        "id": "cd9ZqdQrL1qY"
      },
      "execution_count": null,
      "outputs": []
    },
    {
      "cell_type": "markdown",
      "source": [
        "# Creating Histogram\n",
        "\n",
        "## *hist()*\n",
        "- used to create a histogram"
      ],
      "metadata": {
        "id": "4r5meqK7L12p"
      }
    },
    {
      "cell_type": "code",
      "source": [
        "plt.hist(x)\n",
        "plt.show()"
      ],
      "metadata": {
        "colab": {
          "base_uri": "https://localhost:8080/",
          "height": 265
        },
        "id": "dQa8NEZ0L6oW",
        "outputId": "e0fd9cf9-f609-41be-d651-707bed51a3f9"
      },
      "execution_count": null,
      "outputs": [
        {
          "output_type": "display_data",
          "data": {
            "text/plain": [
              "<Figure size 432x288 with 1 Axes>"
            ],
            "image/png": "[encoded data removed]"
          },
          "metadata": {
            "needs_background": "light"
          }
        }
      ]
    },
    {
      "cell_type": "code",
      "source": [
        ""
      ],
      "metadata": {
        "id": "qtBpQJ6ML7sZ"
      },
      "execution_count": null,
      "outputs": []
    }
  ]
}